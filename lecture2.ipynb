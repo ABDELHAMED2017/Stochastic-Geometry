{
 "cells": [
  {
   "cell_type": "markdown",
   "metadata": {
    "slideshow": {
     "slide_type": "slide"
    }
   },
   "source": [
    "# Lecture 2: Different types of point processes and transformations                 "
   ]
  },
  {
   "cell_type": "markdown",
   "metadata": {
    "slideshow": {
     "slide_type": "slide"
    }
   },
   "source": [
    "## 1. Binomial Point Process"
   ]
  },
  {
   "cell_type": "markdown",
   "metadata": {
    "slideshow": {
     "slide_type": "subslide"
    }
   },
   "source": [
    "- Fixed number of points\n",
    "- Independent and identically distributed points over a given region\n",
    "- How to simulate a BPP?"
   ]
  },
  {
   "cell_type": "code",
   "execution_count": 3,
   "metadata": {
    "collapsed": false,
    "slideshow": {
     "slide_type": "fragment"
    }
   },
   "outputs": [],
   "source": [
    "#Numpy library\n",
    "import numpy as np\n",
    "#Number of points: N\n",
    "x_realization_BPP = 50\n",
    "\n",
    "#Square side: L\n",
    "L = 10\n",
    "\n",
    "#Random points in axis x\n",
    "position_x_realization_BPP = np.random.uniform(0,L,x_realization_BPP)\n",
    "\n",
    "#Random points in axis y\n",
    "position_y_realization_BPP = np.random.uniform(0,L,x_realization_BPP)\n",
    "\n",
    "#Manipulating arrays\n",
    "position_x_realization_BPP_t=np.transpose(position_x_realization_BPP)\n",
    "position_y_realization_BPP_t=np.transpose(position_y_realization_BPP)\n",
    "#position_final_BPP = []\n",
    "#position_final_BPP = [[position_x_realization_BPP_t[ix], position_y_realization_BPP_t[ix]] for ix in range(0, x_realization_BPP)]"
   ]
  },
  {
   "cell_type": "code",
   "execution_count": 4,
   "metadata": {
    "collapsed": false,
    "slideshow": {
     "slide_type": "subslide"
    }
   },
   "outputs": [
    {
     "data": {
      "image/png": "[encoded data removed]",
      "text/plain": [
       "<matplotlib.figure.Figure at 0x7f20d62f8150>"
      ]
     },
     "metadata": {},
     "output_type": "display_data"
    }
   ],
   "source": [
    "#Ploting libraries\n",
    "import matplotlib.pyplot as plt\n",
    "#Plot commands\n",
    "plt.figure(figsize=(8,8), dpi=1200)\n",
    "plt.plot(position_x_realization_BPP, position_y_realization_BPP, marker='.', color='g',linestyle = '')\n",
    "plt.xlabel('x')\n",
    "plt.ylabel('y')\n",
    "plt.title('BPP')\n",
    "plt.show()"
   ]
  },
  {
   "cell_type": "markdown",
   "metadata": {
    "slideshow": {
     "slide_type": "fragment"
    }
   },
   "source": [
    "What can you say about this process?"
   ]
  },
  {
   "cell_type": "markdown",
   "metadata": {
    "slideshow": {
     "slide_type": "slide"
    }
   },
   "source": [
    "## 2. Poisson Point Process"
   ]
  },
  {
   "cell_type": "markdown",
   "metadata": {
    "slideshow": {
     "slide_type": "subslide"
    }
   },
   "source": [
    "- Random number of points: Poisson distribution\n",
    "- Independent and identically distributed point over a given region\n",
    "- How to simulate a PPP?"
   ]
  },
  {
   "cell_type": "code",
   "execution_count": 5,
   "metadata": {
    "collapsed": false,
    "slideshow": {
     "slide_type": "fragment"
    }
   },
   "outputs": [],
   "source": [
    "#Square side: L\n",
    "L = 10\n",
    "\n",
    "#Average number of points (Poisson)\n",
    "x_average_PPP = 50\n",
    "\n",
    "#Number of points N that is a Poisson random variable \n",
    "x_realization_PPP = np.random.poisson(x_average_PPP,1)\n",
    "\n",
    "#Random points in axis x\n",
    "position_x_realization_PPP = np.random.uniform(0,L,x_realization_PPP)\n",
    "\n",
    "#Random points in axis y\n",
    "position_y_realization_PPP = np.random.uniform(0,L,x_realization_PPP)\n",
    "\n",
    "#Manipulating arrays\n",
    "position_x_realization_PPP_t=np.transpose(position_x_realization_PPP)\n",
    "position_y_realization_PPP_t=np.transpose(position_y_realization_PPP)\n",
    "#position_final = []\n",
    "#position_final = [[position_x_realization_PPP_t[ix], position_y_realization_PPP_t[ix]] for ix in range(0, x_realization_PPP)]"
   ]
  },
  {
   "cell_type": "code",
   "execution_count": 6,
   "metadata": {
    "collapsed": false,
    "slideshow": {
     "slide_type": "subslide"
    }
   },
   "outputs": [
    {
     "name": "stdout",
     "output_type": "stream",
     "text": [
      "Number of points: [50]\n"
     ]
    },
    {
     "data": {
      "image/png": "[encoded data removed]",
      "text/plain": [
       "<matplotlib.figure.Figure at 0x7f20d6288450>"
      ]
     },
     "metadata": {},
     "output_type": "display_data"
    }
   ],
   "source": [
    "#Number of points in this realization\n",
    "print 'Number of points:', x_realization_PPP\n",
    "\n",
    "#Ploting libraries\n",
    "import numpy as np\n",
    "import matplotlib.pyplot as plt\n",
    "#Plot commands\n",
    "plt.figure(figsize=(8,8), dpi=1200)\n",
    "plt.plot(position_x_realization_PPP, position_y_realization_PPP, marker='.', color='r',linestyle = '')\n",
    "plt.xlabel('x')\n",
    "plt.ylabel('y')\n",
    "plt.title('PPP')\n",
    "plt.axis([0, L, 0, L])\n",
    "plt.show()"
   ]
  },
  {
   "cell_type": "markdown",
   "metadata": {
    "slideshow": {
     "slide_type": "subslide"
    }
   },
   "source": [
    "How about the statistics?\n",
    "- Let's compare the average number of points based on the simulation and the analytic formula of Poisson distribution."
   ]
  },
  {
   "cell_type": "code",
   "execution_count": 7,
   "metadata": {
    "collapsed": false,
    "slideshow": {
     "slide_type": "fragment"
    }
   },
   "outputs": [
    {
     "name": "stdout",
     "output_type": "stream",
     "text": [
      "Setting permissions of DOT_SAGE directory so only you can read and write it.\n"
     ]
    },
    {
     "data": {
      "image/png": "[encoded data removed]",
      "text/latex": [
       "$$\\frac{x^{k}}{e^{x} \\Gamma{\\left(k \\right)}}$$"
      ],
      "text/plain": [
       " k  -x\n",
       "x ⋅ℯ  \n",
       "──────\n",
       " Γ(k) "
      ]
     },
     "execution_count": 7,
     "metadata": {},
     "output_type": "execute_result"
    }
   ],
   "source": [
    "#Sympy library\n",
    "from sympy import Symbol, symbols, init_printing, oo\n",
    "from sympy import exp, gamma\n",
    "\n",
    "# Setting things up\n",
    "init_printing()\n",
    "\n",
    "#Symbols\n",
    "x,k = symbols('x k', real = True, positive = True)\n",
    "#Defining Poisson distribution\n",
    "f_Poisson = ((x)**k/gamma(k)) * exp(-x)\n",
    "f_Poisson"
   ]
  },
  {
   "cell_type": "code",
   "execution_count": 8,
   "metadata": {
    "collapsed": false,
    "slideshow": {
     "slide_type": "subslide"
    }
   },
   "outputs": [
    {
     "data": {
      "image/png": "[encoded data removed]",
      "text/plain": [
       "<matplotlib.figure.Figure at 0x7f209bd4f290>"
      ]
     },
     "metadata": {},
     "output_type": "display_data"
    }
   ],
   "source": [
    "#Simulating Poisson distribution\n",
    "s = np.random.poisson(x_realization_PPP, 100000)\n",
    "\n",
    "#Analytic distribution\n",
    "from scipy.stats import poisson\n",
    "#\n",
    "plt.figure(figsize=(10,8), dpi=1200)\n",
    "plt.hist(s,normed=True, color=\"#6495ED\")\n",
    "k = np.arange(100)\n",
    "plt.plot(k, poisson.pmf(k, x_realization_PPP), '-o')\n",
    "plt.xlabel('$k$')\n",
    "plt.ylabel('Probability that $n = k$')\n",
    "plt.title('Poisson distribution')\n",
    "plt.show()"
   ]
  },
  {
   "cell_type": "markdown",
   "metadata": {
    "slideshow": {
     "slide_type": "slide"
    }
   },
   "source": [
    "## 3. Superposition transformation"
   ]
  },
  {
   "cell_type": "markdown",
   "metadata": {
    "slideshow": {
     "slide_type": "subslide"
    }
   },
   "source": [
    "What is a superposition transformation?"
   ]
  },
  {
   "cell_type": "code",
   "execution_count": 9,
   "metadata": {
    "collapsed": false,
    "slideshow": {
     "slide_type": "fragment"
    }
   },
   "outputs": [
    {
     "data": {
      "image/png": "[encoded data removed]",
      "text/plain": [
       "<matplotlib.figure.Figure at 0x7f209bd4f050>"
      ]
     },
     "metadata": {},
     "output_type": "display_data"
    }
   ],
   "source": [
    "import matplotlib.pyplot as plt\n",
    "#Plot commands\n",
    "plt.figure(figsize=(8,8), dpi=100)\n",
    "plt.plot(position_x_realization_BPP, position_y_realization_BPP, marker='.', color='b',linestyle = '')\n",
    "plt.plot(position_x_realization_PPP, position_y_realization_PPP, marker='.', color='b',linestyle = '')\n",
    "plt.xlabel('x')\n",
    "plt.ylabel('y')\n",
    "plt.title('Superposition: BPP and PPP')\n",
    "plt.show()"
   ]
  },
  {
   "cell_type": "markdown",
   "metadata": {
    "slideshow": {
     "slide_type": "fragment"
    }
   },
   "source": [
    "By looking this plot, can you say which point process is which?"
   ]
  },
  {
   "cell_type": "markdown",
   "metadata": {
    "slideshow": {
     "slide_type": "subslide"
    }
   },
   "source": [
    "Marking the process"
   ]
  },
  {
   "cell_type": "code",
   "execution_count": 10,
   "metadata": {
    "collapsed": false,
    "slideshow": {
     "slide_type": "fragment"
    }
   },
   "outputs": [
    {
     "data": {
      "image/png": "[encoded data removed]",
      "text/plain": [
       "<matplotlib.figure.Figure at 0x7f209be82b10>"
      ]
     },
     "metadata": {},
     "output_type": "display_data"
    }
   ],
   "source": [
    "import matplotlib.pyplot as plt\n",
    "#Plot commands\n",
    "plt.figure(figsize=(8,8), dpi=1200)\n",
    "plt.plot(position_x_realization_BPP, position_y_realization_BPP, marker='x', color='g',linestyle = '')\n",
    "plt.plot(position_x_realization_PPP, position_y_realization_PPP, marker='o', color='r',linestyle = '')\n",
    "plt.xlabel('x')\n",
    "plt.ylabel('y')\n",
    "plt.title('Superposition: BPP and PPP')\n",
    "plt.show()"
   ]
  },
  {
   "cell_type": "markdown",
   "metadata": {
    "slideshow": {
     "slide_type": "slide"
    }
   },
   "source": [
    "## 4. Mapping transformation"
   ]
  },
  {
   "cell_type": "markdown",
   "metadata": {
    "slideshow": {
     "slide_type": "subslide"
    }
   },
   "source": [
    "What is a  mapping transformation?"
   ]
  },
  {
   "cell_type": "code",
   "execution_count": 11,
   "metadata": {
    "collapsed": false,
    "slideshow": {
     "slide_type": "fragment"
    }
   },
   "outputs": [],
   "source": [
    "#Square side: L\n",
    "L = 10\n",
    "\n",
    "#Average number of points (Poisson)\n",
    "x_average_PPP = 50\n",
    "\n",
    "#Number of points N that is a Poisson random variable \n",
    "x_realization_PPP = np.random.poisson(x_average_PPP,1)\n",
    "\n",
    "#Scaling transformation\n",
    "s = 2\n",
    "\n",
    "#Random points in axis x\n",
    "position_x_realization_PPP = s * np.random.uniform(0,L,x_realization_PPP)\n",
    "\n",
    "#Random points in axis y\n",
    "position_y_realization_PPP = s * np.random.uniform(0,L,x_realization_PPP)                   "
   ]
  },
  {
   "cell_type": "code",
   "execution_count": 12,
   "metadata": {
    "collapsed": false,
    "slideshow": {
     "slide_type": "subslide"
    }
   },
   "outputs": [
    {
     "name": "stdout",
     "output_type": "stream",
     "text": [
      "Number of points: [45]\n"
     ]
    },
    {
     "data": {
      "image/png": "[encoded data removed]",
      "text/plain": [
       "<matplotlib.figure.Figure at 0x7f2095ca2350>"
      ]
     },
     "metadata": {},
     "output_type": "display_data"
    }
   ],
   "source": [
    "#Number of points in this realization\n",
    "print 'Number of points:', x_realization_PPP\n",
    "\n",
    "#Ploting libraries\n",
    "import numpy as np\n",
    "import matplotlib.pyplot as plt\n",
    "#Plot commands\n",
    "plt.figure(figsize=(8,8), dpi=1200)\n",
    "plt.plot(position_x_realization_PPP, position_y_realization_PPP, marker='.', color='g',linestyle = '')\n",
    "plt.xlabel('x')\n",
    "plt.ylabel('y')\n",
    "plt.title('PPP with scaling')\n",
    "plt.show()"
   ]
  },
  {
   "cell_type": "markdown",
   "metadata": {
    "slideshow": {
     "slide_type": "slide"
    }
   },
   "source": [
    "## 5. Thinning transformation"
   ]
  },
  {
   "cell_type": "markdown",
   "metadata": {
    "slideshow": {
     "slide_type": "subslide"
    }
   },
   "source": [
    "What is a thinning transformation?"
   ]
  },
  {
   "cell_type": "markdown",
   "metadata": {
    "slideshow": {
     "slide_type": "fragment"
    }
   },
   "source": [
    "Delete points\n",
    "\n",
    "- Independent: e.g. erase with a given probability\n",
    "- Dependent: e.g. erase the points within a given range"
   ]
  },
  {
   "cell_type": "markdown",
   "metadata": {
    "slideshow": {
     "slide_type": "fragment"
    }
   },
   "source": [
    "You can try to implentent this at home"
   ]
  },
  {
   "cell_type": "markdown",
   "metadata": {
    "slideshow": {
     "slide_type": "slide"
    }
   },
   "source": [
    "## 6. Cluster formation"
   ]
  },
  {
   "cell_type": "markdown",
   "metadata": {
    "slideshow": {
     "slide_type": "subslide"
    }
   },
   "source": [
    "How to form clusters?"
   ]
  },
  {
   "cell_type": "markdown",
   "metadata": {
    "slideshow": {
     "slide_type": "fragment"
    }
   },
   "source": [
    "- Think about if every point in the original point process can be the parent of other point process around it\n",
    "- Try also to implement this at home"
   ]
  },
  {
   "cell_type": "markdown",
   "metadata": {},
   "source": [
    "<a rel=\"license\" href=\"http://creativecommons.org/licenses/by-nc/4.0/\"><img alt=\"Creative Commons License\" style=\"border-width:0\" src=\"https://i.creativecommons.org/l/by-nc/4.0/88x31.png\" /></a><br />This work is licensed under a <a rel=\"license\" href=\"http://creativecommons.org/licenses/by-nc/4.0/\">Creative Commons Attribution-NonCommercial 4.0 International License</a>."
   ]
  },
  {
   "cell_type": "code",
   "execution_count": null,
   "metadata": {
    "collapsed": true
   },
   "outputs": [],
   "source": []
  }
 ],
 "metadata": {
  "kernelspec": {
   "display_name": "Python 2 (SageMath)",
   "language": "python",
   "name": "python2"
  },
  "language_info": {
   "codemirror_mode": {
    "name": "ipython",
    "version": 2
   },
   "file_extension": ".py",
   "mimetype": "text/x-python",
   "name": "python",
   "nbconvert_exporter": "python",
   "pygments_lexer": "ipython2",
   "version": "2.7.10"
  },
  "name": "lecture2.ipynb"
 },
 "nbformat": 4,
 "nbformat_minor": 0
}
