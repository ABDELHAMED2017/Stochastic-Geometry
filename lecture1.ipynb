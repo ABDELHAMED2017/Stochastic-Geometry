{
 "cells": [
  {
   "cell_type": "markdown",
   "metadata": {
    "slideshow": {
     "slide_type": "slide"
    }
   },
   "source": [
    "# Lecture 1: Introduction to spatial point processes                 "
   ]
  },
  {
   "cell_type": "markdown",
   "metadata": {
    "slideshow": {
     "slide_type": "slide"
    }
   },
   "source": [
    "## 1. What is randomness?"
   ]
  },
  {
   "cell_type": "markdown",
   "metadata": {
    "slideshow": {
     "slide_type": "subslide"
    }
   },
   "source": [
    "Is throwing a coin random? Why?"
   ]
  },
  {
   "cell_type": "code",
   "execution_count": 1,
   "metadata": {
    "collapsed": false,
    "slideshow": {
     "slide_type": "fragment"
    }
   },
   "outputs": [],
   "source": [
    "#Implementing the experiment\n",
    "\n",
    "# Getting the required library\n",
    "import random\n",
    "\n",
    "#Defining the function of throwing the coin\n",
    "def flip(p):\n",
    "    return 'H' if random.random() < p else 'T'"
   ]
  },
  {
   "cell_type": "code",
   "execution_count": 2,
   "metadata": {
    "collapsed": false,
    "slideshow": {
     "slide_type": "fragment"
    }
   },
   "outputs": [
    {
     "data": {
      "text/plain": [
       "'H'"
      ]
     },
     "execution_count": 2,
     "metadata": {},
     "output_type": "execute_result"
    }
   ],
   "source": [
    "#Experiment 1 - Fair coin 50% chance\n",
    "p=0.5 \n",
    "flip(p)"
   ]
  },
  {
   "cell_type": "code",
   "execution_count": 3,
   "metadata": {
    "collapsed": false,
    "slideshow": {
     "slide_type": "fragment"
    }
   },
   "outputs": [
    {
     "data": {
      "text/plain": [
       "'T'"
      ]
     },
     "execution_count": 3,
     "metadata": {},
     "output_type": "execute_result"
    }
   ],
   "source": [
    "#Experiment 2 - Biased coin 80% of heads\n",
    "p=0.8\n",
    "flip(p)"
   ]
  },
  {
   "cell_type": "code",
   "execution_count": 4,
   "metadata": {
    "collapsed": false,
    "slideshow": {
     "slide_type": "fragment"
    }
   },
   "outputs": [
    {
     "data": {
      "text/plain": [
       "'H'"
      ]
     },
     "execution_count": 4,
     "metadata": {},
     "output_type": "execute_result"
    }
   ],
   "source": [
    "#Experiment 3 - Biased coin 100% of heads\n",
    "p=1\n",
    "flip(p)"
   ]
  },
  {
   "cell_type": "markdown",
   "metadata": {
    "slideshow": {
     "slide_type": "subslide"
    }
   },
   "source": [
    "<p>From these experiments, what do you think? </p> <p> And if I am able to conduct only \"experiment 3\" without your knowledge?</p> <p>And a lottery? And if someone knows the result beforehand?</p> "
   ]
  },
  {
   "cell_type": "markdown",
   "metadata": {
    "slideshow": {
     "slide_type": "slide"
    }
   },
   "source": [
    "## 2. How to assess randomness?"
   ]
  },
  {
   "cell_type": "markdown",
   "metadata": {
    "slideshow": {
     "slide_type": "subslide"
    }
   },
   "source": [
    "Characterizing the probability that some random event happens."
   ]
  },
  {
   "cell_type": "code",
   "execution_count": 5,
   "metadata": {
    "collapsed": false,
    "slideshow": {
     "slide_type": "fragment"
    }
   },
   "outputs": [
    {
     "name": "stdout",
     "output_type": "stream",
     "text": [
      "Number of heads: 6663\n",
      "Number of tails: 3337\n"
     ]
    }
   ],
   "source": [
    "#Uploading division library\n",
    "from __future__ import division\n",
    "#Head probability (input) \n",
    "p=0.67\n",
    "#Number o realizations\n",
    "x_max = 10000\n",
    "count = 0\n",
    "#Experiment\n",
    "for x in range(0, x_max):\n",
    "    a = flip(p)\n",
    "    #print a\n",
    "    if a == 'H':\n",
    "        count = count + 1\n",
    "print 'Number of heads:', count\n",
    "print 'Number of tails:', x_max - count   "
   ]
  },
  {
   "cell_type": "code",
   "execution_count": 6,
   "metadata": {
    "collapsed": false,
    "slideshow": {
     "slide_type": "fragment"
    }
   },
   "outputs": [
    {
     "name": "stdout",
     "output_type": "stream",
     "text": [
      "Probability (heads): 0.6663\n",
      "Probability (tails): 0.3337\n"
     ]
    }
   ],
   "source": [
    "#Probability from experiments: Number of Heads or Tails diveded by the number of realizations\n",
    "print 'Probability (heads):', count / x_max\n",
    "print 'Probability (tails):', (x_max-count) / x_max"
   ]
  },
  {
   "cell_type": "markdown",
   "metadata": {
    "slideshow": {
     "slide_type": "slide"
    }
   },
   "source": [
    "## 3. Spatial point processes"
   ]
  },
  {
   "cell_type": "markdown",
   "metadata": {
    "slideshow": {
     "slide_type": "subslide"
    }
   },
   "source": [
    "Points randomly thrown in a given area"
   ]
  },
  {
   "cell_type": "code",
   "execution_count": 10,
   "metadata": {
    "collapsed": false,
    "slideshow": {
     "slide_type": "fragment"
    }
   },
   "outputs": [],
   "source": [
    "#Uploading library\n",
    "import numpy as np\n",
    "#Number of points: N\n",
    "x_realization = 100\n",
    "\n",
    "#Square side: L\n",
    "L = 10\n",
    "\n",
    "#Random points in axis x\n",
    "position_x_realization = np.random.uniform(0,L,x_realization)\n",
    "\n",
    "#Random points in axis y\n",
    "position_y_realization = np.random.uniform(0,L,x_realization)\n",
    "\n",
    "#Manipulating arrays\n",
    "position_x_realization_t=np.transpose(position_x_realization)\n",
    "position_y_realization_t=np.transpose(position_y_realization)\n",
    "position_final = []\n",
    "position_final = [[position_x_realization_t[ix], position_y_realization_t[ix]] for ix in range(0, x_realization)]"
   ]
  },
  {
   "cell_type": "code",
   "execution_count": 11,
   "metadata": {
    "collapsed": false,
    "slideshow": {
     "slide_type": "subslide"
    }
   },
   "outputs": [
    {
     "data": {
      "image/png": "[encoded data removed]",
      "text/plain": [
       "<matplotlib.figure.Figure at 0x7f542ce8c910>"
      ]
     },
     "metadata": {},
     "output_type": "display_data"
    }
   ],
   "source": [
    "#Ploting libraries\n",
    "from matplotlib.widgets import Cursor\n",
    "import matplotlib.pyplot as plt\n",
    "#Plot commands\n",
    "fig = plt.figure(figsize=(8, 6))\n",
    "ax = fig.add_subplot(111, axisbg='#FFFFCC')\n",
    "ax.plot(position_x_realization, position_y_realization, 'o')\n",
    "ax.set_xlim(0, L)\n",
    "ax.set_ylim(0, L)\n",
    "plt.show()"
   ]
  },
  {
   "cell_type": "markdown",
   "metadata": {
    "slideshow": {
     "slide_type": "subslide"
    }
   },
   "source": [
    "Do you have a physical interpretation of the spatial distribution?"
   ]
  },
  {
   "cell_type": "markdown",
   "metadata": {},
   "source": [
    "<a rel=\"license\" href=\"http://creativecommons.org/licenses/by-nc/4.0/\"><img alt=\"Creative Commons License\" style=\"border-width:0\" src=\"https://i.creativecommons.org/l/by-nc/4.0/88x31.png\" /></a><br />This work is licensed under a <a rel=\"license\" href=\"http://creativecommons.org/licenses/by-nc/4.0/\">Creative Commons Attribution-NonCommercial 4.0 International License</a>."
   ]
  },
  {
   "cell_type": "code",
   "execution_count": null,
   "metadata": {
    "collapsed": true
   },
   "outputs": [],
   "source": []
  }
 ],
 "metadata": {
  "kernelspec": {
   "display_name": "Python 2 (SageMath)",
   "language": "python",
   "name": "python2"
  },
  "language_info": {
   "codemirror_mode": {
    "name": "ipython",
    "version": 2
   },
   "file_extension": ".py",
   "mimetype": "text/x-python",
   "name": "python",
   "nbconvert_exporter": "python",
   "pygments_lexer": "ipython2",
   "version": "2.7.10"
  },
  "name": "lecture1.ipynb"
 },
 "nbformat": 4,
 "nbformat_minor": 0
}
